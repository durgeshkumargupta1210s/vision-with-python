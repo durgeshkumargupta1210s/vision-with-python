{
 "cells": [
  {
   "cell_type": "code",
   "execution_count": 1,
   "id": "b0deca4e",
   "metadata": {},
   "outputs": [],
   "source": [
    "import cv2"
   ]
  },
  {
   "cell_type": "code",
   "execution_count": null,
   "id": "5a0cc71a",
   "metadata": {},
   "outputs": [],
   "source": [
    "# circle:-\n",
    "old_img=cv2.imread('image2.png')\n",
    "old_img=cv2.resize(old_img,(500,600))\n",
    "\n",
    "new_img=cv2.circle(img=old_img,center=(260,280), radius=110, color=(0,255,0),thickness=4, lineType=16)\n",
    "# thickness=-1 if you want to hide that face\n",
    "\n",
    "cv2.imshow('circle',old_img)\n",
    "cv2.waitKey(0)\n",
    "cv2.destroyAllWindows()"
   ]
  },
  {
   "cell_type": "code",
   "execution_count": 32,
   "id": "5bd4a72f",
   "metadata": {},
   "outputs": [],
   "source": [
    "#ellipse:-\n",
    "old_img=cv2.imread('image2.png')\n",
    "old_img=cv2.resize(old_img,(500,600))\n",
    "\n",
    "txt_img=cv2.putText(img=old_img,text='ellipse',org=(300,300),fontFace=3,fontScale=1,color=(0,0,255),bottomLeftOrigin=False,thickness=2)\n",
    "\n",
    "new_img=cv2.ellipse(img=txt_img,center=(260,280), axes=(70,150),angle=30,startAngle=0,endAngle=340,color=(0,255,0),thickness=4, lineType=16)\n",
    "# thickness=-1 if you want to hide that face\n",
    "\n",
    "cv2.imshow('circle',old_img)\n",
    "cv2.waitKey(0)\n",
    "cv2.destroyAllWindows()"
   ]
  },
  {
   "cell_type": "code",
   "execution_count": null,
   "id": "f7037380",
   "metadata": {},
   "outputs": [],
   "source": []
  },
  {
   "cell_type": "code",
   "execution_count": null,
   "id": "13ab0896",
   "metadata": {},
   "outputs": [],
   "source": []
  }
 ],
 "metadata": {
  "kernelspec": {
   "display_name": "base",
   "language": "python",
   "name": "python3"
  },
  "language_info": {
   "codemirror_mode": {
    "name": "ipython",
    "version": 3
   },
   "file_extension": ".py",
   "mimetype": "text/x-python",
   "name": "python",
   "nbconvert_exporter": "python",
   "pygments_lexer": "ipython3",
   "version": "3.13.5"
  }
 },
 "nbformat": 4,
 "nbformat_minor": 5
}
