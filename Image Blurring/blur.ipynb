{
 "cells": [
  {
   "cell_type": "markdown",
   "id": "e4cf2aeb",
   "metadata": {},
   "source": [
    "Blurring (smoothing) is the process of reducing sharp edges, noise, or detail in an image.\n",
    "It works by applying a kernel (matrix) that combines the values of neighboring pixels to produce a new value for the center pixel."
   ]
  },
  {
   "cell_type": "markdown",
   "id": "38c9864d",
   "metadata": {},
   "source": [
    "1. How Kernels Work\n",
    "A kernel is a small matrix (like 3×3, 5×5) that moves over the image.\n",
    "\n",
    "Each position computes a weighted sum of the pixel neighborhood.\n",
    "\n",
    "The center pixel is replaced by this computed value.\n",
    "\n",
    "Example of a 3×3 averaging kernel:\n",
    "\n",
    "1/9  1/9  1/9\n",
    "1/9  1/9  1/9\n",
    "1/9  1/9  1/9\n"
   ]
  },
  {
   "cell_type": "code",
   "execution_count": 7,
   "id": "eebae0f0",
   "metadata": {},
   "outputs": [],
   "source": [
    "import cv2\n",
    "import numpy as np"
   ]
  },
  {
   "cell_type": "code",
   "execution_count": 5,
   "id": "1ad58c84",
   "metadata": {},
   "outputs": [],
   "source": [
    "org_img=cv2.imread('image2.png')\n",
    "res_img=cv2.resize(org_img,(500,500))\n",
    "cv2.imshow('durgesh',res_img)\n",
    "cv2.waitKey(0)\n",
    "cv2.destroyAllWindows()"
   ]
  },
  {
   "cell_type": "markdown",
   "id": "9cd0e54d",
   "metadata": {},
   "source": [
    "Gaussian Blur (cv2.GaussianBlur)\n",
    "Formula: Weighted mean using a Gaussian function (bell curve).\n",
    "\n",
    "Center pixels get more weight → smoother yet preserves edges better.\n",
    "\n",
    "📌 When to use: Pre-processing before edge detection (like Canny).\n",
    "\n"
   ]
  },
  {
   "cell_type": "code",
   "execution_count": 13,
   "id": "28c39fee",
   "metadata": {},
   "outputs": [],
   "source": [
    "org_img=cv2.imread('image2.png')\n",
    "res_img=cv2.resize(org_img,(500,500))\n",
    "g=cv2.GaussianBlur(res_img,(11,11),0) # 5,5 kernal image matrix size ..\n",
    "#blur depend on this matrix size and size must be odd\n",
    "h=np.hstack((res_img,g))\n",
    "cv2.imshow('durgesh',h)\n",
    "cv2.waitKey(0)\n",
    "cv2.destroyAllWindows()"
   ]
  },
  {
   "cell_type": "markdown",
   "id": "3c738234",
   "metadata": {},
   "source": [
    "# Median Blur (cv2.medianBlur)\n",
    "# Formula: Replace pixel value with the median of neighborhood pixels.\n",
    "# Great for removing salt-and-pepper noise.\n"
   ]
  },
  {
   "cell_type": "code",
   "execution_count": 15,
   "id": "6e06b81b",
   "metadata": {},
   "outputs": [],
   "source": [
    "org_img=cv2.imread('image2.png')\n",
    "res_img=cv2.resize(org_img,(500,500))\n",
    "g=cv2.GaussianBlur(res_img,(11,11),0) # 5,5 kernal image matrix size ..\n",
    "#blur depend on this matrix size and size must be odd\n",
    "m=cv2.medianBlur(res_img,9)\n",
    "h=np.hstack((res_img,g,m))\n",
    "cv2.imshow('durgesh',h)\n",
    "cv2.waitKey(0)\n",
    "cv2.destroyAllWindows()"
   ]
  },
  {
   "cell_type": "markdown",
   "id": "8b76ae79",
   "metadata": {},
   "source": [
    "# Bilateral Filter (cv2.bilateralFilter)\n",
    "# Formula: Combines spatial closeness + pixel intensity similarity.\n",
    "\n",
    "# Smooths flat areas but keeps edges sharp.\n",
    "\n"
   ]
  },
  {
   "cell_type": "code",
   "execution_count": 17,
   "id": "dd3c2309",
   "metadata": {},
   "outputs": [],
   "source": [
    "org_img=cv2.imread('image2.png')\n",
    "res_img=cv2.resize(org_img,(300,300))\n",
    "g=cv2.GaussianBlur(res_img,(11,11),0) # 5,5 kernal image matrix size ..\n",
    "#blur depend on this matrix size and size must be odd\n",
    "m=cv2.medianBlur(res_img,9) # 9-kernalszie\n",
    "b=cv2.bilateralFilter(res_img,9,200,200)\n",
    "h=np.hstack((res_img,g,m,b))\n",
    "cv2.imshow('durgesh',h)\n",
    "cv2.waitKey(0)\n",
    "cv2.destroyAllWindows()"
   ]
  }
 ],
 "metadata": {
  "kernelspec": {
   "display_name": "base",
   "language": "python",
   "name": "python3"
  },
  "language_info": {
   "codemirror_mode": {
    "name": "ipython",
    "version": 3
   },
   "file_extension": ".py",
   "mimetype": "text/x-python",
   "name": "python",
   "nbconvert_exporter": "python",
   "pygments_lexer": "ipython3",
   "version": "3.13.5"
  }
 },
 "nbformat": 4,
 "nbformat_minor": 5
}
