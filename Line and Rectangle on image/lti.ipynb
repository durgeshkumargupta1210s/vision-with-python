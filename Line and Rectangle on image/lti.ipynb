{
 "cells": [
  {
   "cell_type": "code",
   "execution_count": 1,
   "id": "7ba5d748",
   "metadata": {},
   "outputs": [],
   "source": [
    "import cv2"
   ]
  },
  {
   "cell_type": "code",
   "execution_count": null,
   "id": "680d8539",
   "metadata": {},
   "outputs": [],
   "source": [
    "# Drawing a line on Image\n",
    "old_img=cv2.imread('image2.png')\n",
    "old_img=cv2.resize(old_img,(500,700))\n",
    "\n",
    "new_img=cv2.line(img=old_img,pt1=(150,190),pt2=(360,170),color=(0,255,0),lineType=4,thickness=4)\n",
    "\n",
    "cv2.imshow('Line on image',new_img)\n",
    "cv2.waitKey(0)\n",
    "cv2.destroyAllWindows()"
   ]
  },
  {
   "cell_type": "code",
   "execution_count": 27,
   "id": "05649587",
   "metadata": {},
   "outputs": [],
   "source": [
    "# \n",
    "old_img=cv2.imread('image2.png')\n",
    "old_img=cv2.resize(old_img,(500,700))\n",
    "txt_img=cv2.putText(img=old_img,text='eye',org=(150,180),fontFace=2,fontScale=1,color=(0,255,255),thickness=1,lineType=16,bottomLeftOrigin=False)\n",
    "\n",
    "new_img=cv2.rectangle(img=txt_img,pt1=(150,190),pt2=(360,500),color=(0,255,0),lineType=4,thickness=4)\n",
    "\n",
    "cv2.imshow('Line on image',new_img)\n",
    "cv2.waitKey(0)\n",
    "cv2.destroyAllWindows()"
   ]
  },
  {
   "cell_type": "code",
   "execution_count": null,
   "id": "cb5d3cc0",
   "metadata": {},
   "outputs": [],
   "source": []
  },
  {
   "cell_type": "code",
   "execution_count": null,
   "id": "07591982",
   "metadata": {},
   "outputs": [],
   "source": []
  },
  {
   "cell_type": "code",
   "execution_count": null,
   "id": "f41b599c",
   "metadata": {},
   "outputs": [],
   "source": []
  },
  {
   "cell_type": "code",
   "execution_count": null,
   "id": "a79b69bd",
   "metadata": {},
   "outputs": [],
   "source": []
  }
 ],
 "metadata": {
  "kernelspec": {
   "display_name": "base",
   "language": "python",
   "name": "python3"
  },
  "language_info": {
   "codemirror_mode": {
    "name": "ipython",
    "version": 3
   },
   "file_extension": ".py",
   "mimetype": "text/x-python",
   "name": "python",
   "nbconvert_exporter": "python",
   "pygments_lexer": "ipython3",
   "version": "3.13.5"
  }
 },
 "nbformat": 4,
 "nbformat_minor": 5
}
