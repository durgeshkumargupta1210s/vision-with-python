{
 "cells": [
  {
   "cell_type": "code",
   "execution_count": 2,
   "id": "9d7d5f72",
   "metadata": {},
   "outputs": [],
   "source": [
    "import cv2\n",
    "import numpy as np"
   ]
  },
  {
   "cell_type": "code",
   "execution_count": 3,
   "id": "2bdc4055",
   "metadata": {},
   "outputs": [],
   "source": [
    "img=cv2.imread('image2.png')\n",
    "img=cv2.resize(img,(500,500))\n",
    "\n",
    "cv2.imshow('original',img)\n",
    "cv2.waitKey(0)\n",
    "cv2.destroyAllWindows()"
   ]
  },
  {
   "cell_type": "code",
   "execution_count": 7,
   "id": "e5d768eb",
   "metadata": {},
   "outputs": [],
   "source": [
    "org_img=cv2.imread('image2.png')\n",
    "res_img=cv2.resize(org_img,(500,500))\n",
    "w,h=res_img.shape[0],res_img.shape[1]\n",
    "\n",
    "m=cv2.getRotationMatrix2D((w/2,h/2),180,1)\n",
    "# matrix to multiply with image matrix then the image matrix will be rotated\n",
    "new_img=cv2.warpAffine(res_img,m,(h,w))\n",
    "\n",
    "h=np.hstack((res_img,new_img))\n",
    "cv2.imshow('Cm vision',h)\n",
    "cv2.waitKey(0)\n",
    "cv2.destroyAllWindows()\n",
    "\n",
    "\n"
   ]
  }
 ],
 "metadata": {
  "kernelspec": {
   "display_name": "base",
   "language": "python",
   "name": "python3"
  },
  "language_info": {
   "codemirror_mode": {
    "name": "ipython",
    "version": 3
   },
   "file_extension": ".py",
   "mimetype": "text/x-python",
   "name": "python",
   "nbconvert_exporter": "python",
   "pygments_lexer": "ipython3",
   "version": "3.13.5"
  }
 },
 "nbformat": 4,
 "nbformat_minor": 5
}
