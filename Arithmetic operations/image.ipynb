{
 "cells": [
  {
   "cell_type": "code",
   "execution_count": 1,
   "id": "605c582a",
   "metadata": {},
   "outputs": [],
   "source": [
    "import cv2"
   ]
  },
  {
   "cell_type": "code",
   "execution_count": 5,
   "id": "32fc1289",
   "metadata": {},
   "outputs": [],
   "source": [
    "img1=cv2.imread('image.jpg')\n",
    "img2=cv2.imread('image2.png')\n",
    "\n",
    "img1=cv2.resize(img1,(500,600))\n",
    "img2=cv2.resize(img2,(500,600))\n",
    "\n",
    "new_img=cv2.addWeighted(img1,0.5,img2,1,1)\n",
    "cv2.imshow('Airth',new_img)\n",
    "cv2.waitKey(0)\n",
    "cv2.destroyAllWindows()\n",
    "\n",
    "\n"
   ]
  },
  {
   "cell_type": "code",
   "execution_count": null,
   "id": "5e83e6b9",
   "metadata": {},
   "outputs": [],
   "source": []
  }
 ],
 "metadata": {
  "kernelspec": {
   "display_name": "base",
   "language": "python",
   "name": "python3"
  },
  "language_info": {
   "codemirror_mode": {
    "name": "ipython",
    "version": 3
   },
   "file_extension": ".py",
   "mimetype": "text/x-python",
   "name": "python",
   "nbconvert_exporter": "python",
   "pygments_lexer": "ipython3",
   "version": "3.13.5"
  }
 },
 "nbformat": 4,
 "nbformat_minor": 5
}
