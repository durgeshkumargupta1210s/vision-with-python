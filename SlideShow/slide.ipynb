{
 "cells": [
  {
   "cell_type": "code",
   "execution_count": 38,
   "id": "bae174fd",
   "metadata": {},
   "outputs": [],
   "source": [
    "\n",
    "import cv2\n",
    "import numpy as np\n",
    "import os\n",
    "\n"
   ]
  },
  {
   "cell_type": "code",
   "execution_count": 21,
   "id": "996903c4",
   "metadata": {},
   "outputs": [],
   "source": [
    "img = cv2.imread('image.jpg')\n",
    "img=cv2.resize(img,(500,600)) # resize image\n",
    "cv2.imshow('image',img)      # image frame\n",
    "cv2.waitKey(0)\n",
    "cv2.destroyAllWindows()     \n"
   ]
  },
  {
   "cell_type": "code",
   "execution_count": 17,
   "id": "67cd1a84",
   "metadata": {},
   "outputs": [
    {
     "data": {
      "text/plain": [
       "array([1, 2, 3, 1, 2, 3, 1, 2, 3, 1, 2, 3])"
      ]
     },
     "execution_count": 17,
     "metadata": {},
     "output_type": "execute_result"
    }
   ],
   "source": [
    "v=np.array([1,2,3,1,2,3])\n",
    "np.hstack((v,v))"
   ]
  },
  {
   "cell_type": "code",
   "execution_count": 18,
   "id": "c46760c3",
   "metadata": {},
   "outputs": [
    {
     "data": {
      "text/plain": [
       "array([[1, 2, 3, 1, 2, 3],\n",
       "       [1, 2, 3, 1, 2, 3]])"
      ]
     },
     "execution_count": 18,
     "metadata": {},
     "output_type": "execute_result"
    }
   ],
   "source": [
    "v=np.array([1,2,3,1,2,3])\n",
    "np.vstack((v,v))"
   ]
  },
  {
   "cell_type": "code",
   "execution_count": 9,
   "id": "a2659be4",
   "metadata": {},
   "outputs": [
    {
     "data": {
      "text/plain": [
       "array([[[255, 255, 255],\n",
       "        [255, 255, 255],\n",
       "        [255, 255, 255],\n",
       "        ...,\n",
       "        [255, 255, 255],\n",
       "        [255, 255, 255],\n",
       "        [255, 255, 255]],\n",
       "\n",
       "       [[255, 255, 255],\n",
       "        [255, 255, 255],\n",
       "        [255, 255, 255],\n",
       "        ...,\n",
       "        [255, 255, 255],\n",
       "        [255, 255, 255],\n",
       "        [255, 255, 255]],\n",
       "\n",
       "       [[255, 255, 255],\n",
       "        [255, 255, 255],\n",
       "        [255, 255, 255],\n",
       "        ...,\n",
       "        [255, 255, 255],\n",
       "        [255, 255, 255],\n",
       "        [255, 255, 255]],\n",
       "\n",
       "       ...,\n",
       "\n",
       "       [[ 84,  84,  84],\n",
       "        [225, 225, 225],\n",
       "        [254, 254, 254],\n",
       "        ...,\n",
       "        [255, 255, 255],\n",
       "        [255, 255, 255],\n",
       "        [255, 255, 255]],\n",
       "\n",
       "       [[ 50,  50,  50],\n",
       "        [212, 212, 212],\n",
       "        [255, 255, 255],\n",
       "        ...,\n",
       "        [255, 255, 255],\n",
       "        [255, 255, 255],\n",
       "        [255, 255, 255]],\n",
       "\n",
       "       [[ 41,  41,  41],\n",
       "        [208, 208, 208],\n",
       "        [255, 255, 255],\n",
       "        ...,\n",
       "        [255, 255, 255],\n",
       "        [255, 255, 255],\n",
       "        [255, 255, 255]]], shape=(679, 679, 3), dtype=uint8)"
      ]
     },
     "execution_count": 9,
     "metadata": {},
     "output_type": "execute_result"
    }
   ],
   "source": [
    "img"
   ]
  },
  {
   "cell_type": "code",
   "execution_count": null,
   "id": "ff67d8b3",
   "metadata": {},
   "outputs": [],
   "source": [
    "# images combined in horizontally\n",
    "img1=cv2.imread('image2.png')\n",
    "img1=cv2.resize(img1,(500,600))\n",
    "h=np.hstack((img1,img1))\n",
    "cv2.imshow('Hrizontal join',h)\n",
    "cv2.waitKey(0)\n",
    "cv2.destroyAllWindows()"
   ]
  },
  {
   "cell_type": "code",
   "execution_count": null,
   "id": "1c056b2f",
   "metadata": {},
   "outputs": [],
   "source": [
    "# image combined in vertically\n",
    "img1=cv2.imread('image2.png')\n",
    "img1=cv2.resize(img1,(500,600))\n",
    "vertical_stack=np.vstack((img,img1))\n",
    "cv2.imshow('vertical',vertical_stack)\n",
    "cv2.waitKey(0)\n",
    "cv2.destroyAllWindows()"
   ]
  },
  {
   "cell_type": "code",
   "execution_count": null,
   "id": "ed1daed5",
   "metadata": {},
   "outputs": [],
   "source": [
    "# image combined both horizontal and vertical\n",
    "img=cv2.imread('image.jpg')\n",
    "img=cv2.resize(img,(300,300))\n",
    "h=np.hstack((img,img,img))\n",
    "v=np.vstack((h,h))\n",
    "cv2.imshow('Frame of 4 ',v)\n",
    "cv2.waitKey(0)\n",
    "cv2.destroyAllWindows()"
   ]
  },
  {
   "cell_type": "code",
   "execution_count": 44,
   "id": "5d73510a",
   "metadata": {},
   "outputs": [
    {
     "data": {
      "text/plain": [
       "['image1.jpg', 'image2.jpg', 'image3.jpg', 'image4.jpg', 'image5.jpg']"
      ]
     },
     "execution_count": 44,
     "metadata": {},
     "output_type": "execute_result"
    }
   ],
   "source": [
    "# slideshow\n",
    "list_name=os.listdir(r'C:\\Users\\asus\\OneDrive\\Desktop\\Photos')\n",
    "list_name"
   ]
  },
  {
   "cell_type": "code",
   "execution_count": null,
   "id": "4b4fb77e",
   "metadata": {},
   "outputs": [
    {
     "name": "stdout",
     "output_type": "stream",
     "text": [
      "C:\\Users\\asus\\OneDrive\\Desktop\\Photos\\image1.jpg\n",
      "C:\\Users\\asus\\OneDrive\\Desktop\\Photos\\image2.jpg\n",
      "C:\\Users\\asus\\OneDrive\\Desktop\\Photos\\image3.jpg\n",
      "C:\\Users\\asus\\OneDrive\\Desktop\\Photos\\image4.jpg\n",
      "C:\\Users\\asus\\OneDrive\\Desktop\\Photos\\image5.jpg\n"
     ]
    }
   ],
   "source": [
    "for name in list_name:\n",
    "    path='C:\\\\Users\\\\asus\\\\OneDrive\\\\Desktop\\\\Photos'\n",
    "    img_name=path+\"\\\\\"+name\n",
    "    print(img_name)\n",
    "    img=cv2.imread(img_name)\n",
    "    img=cv2.resize(img,(500,600))\n",
    "    cv2.imshow('windowname',img)\n",
    "    # cv2.waitKey(2000)\n",
    "    cv2.waitKey(0) # control by keyboard\n",
    "    cv2.destroyAllWindows()\n"
   ]
  },
  {
   "cell_type": "code",
   "execution_count": null,
   "id": "5a56de83",
   "metadata": {},
   "outputs": [],
   "source": []
  },
  {
   "cell_type": "code",
   "execution_count": null,
   "id": "d10399fa",
   "metadata": {},
   "outputs": [],
   "source": []
  }
 ],
 "metadata": {
  "kernelspec": {
   "display_name": "base",
   "language": "python",
   "name": "python3"
  },
  "language_info": {
   "codemirror_mode": {
    "name": "ipython",
    "version": 3
   },
   "file_extension": ".py",
   "mimetype": "text/x-python",
   "name": "python",
   "nbconvert_exporter": "python",
   "pygments_lexer": "ipython3",
   "version": "3.13.5"
  }
 },
 "nbformat": 4,
 "nbformat_minor": 5
}
