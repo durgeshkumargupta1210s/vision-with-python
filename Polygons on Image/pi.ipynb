{
 "cells": [
  {
   "cell_type": "code",
   "execution_count": 3,
   "id": "8ea1d576",
   "metadata": {},
   "outputs": [],
   "source": [
    "import cv2\n",
    "import numpy as np"
   ]
  },
  {
   "cell_type": "code",
   "execution_count": 7,
   "id": "7f9277b3",
   "metadata": {},
   "outputs": [],
   "source": [
    "\n",
    "# Read the image\n",
    "old_img = cv2.imread('image2.png')\n",
    "\n",
    "# Resize the image to 500x600\n",
    "old_img = cv2.resize(old_img, (500, 600))\n",
    "\n",
    "# Define the polygon points\n",
    "pts = np.array([[100, 400], [150, 300], [300, 400], [300, 600], [100, 600]], np.int32)\n",
    "\n",
    "# Reshape the points to the format required by polylines: (n_points, 1, 2)\n",
    "pts = pts.reshape((-1, 1, 2))\n",
    "\n",
    "# Draw the polygon\n",
    "new_image = cv2.polylines(img=old_img, pts=[pts], isClosed=True, color=(0, 255, 0), thickness=4, lineType=cv2.LINE_AA)\n",
    "\n",
    "# Display the image\n",
    "cv2.imshow('image', new_image)\n",
    "cv2.waitKey(0)\n",
    "cv2.destroyAllWindows()\n"
   ]
  }
 ],
 "metadata": {
  "kernelspec": {
   "display_name": "base",
   "language": "python",
   "name": "python3"
  },
  "language_info": {
   "codemirror_mode": {
    "name": "ipython",
    "version": 3
   },
   "file_extension": ".py",
   "mimetype": "text/x-python",
   "name": "python",
   "nbconvert_exporter": "python",
   "pygments_lexer": "ipython3",
   "version": "3.13.5"
  }
 },
 "nbformat": 4,
 "nbformat_minor": 5
}
