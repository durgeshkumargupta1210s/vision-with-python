{
 "cells": [
  {
   "cell_type": "code",
   "execution_count": 8,
   "id": "6fbb84e5",
   "metadata": {},
   "outputs": [],
   "source": [
    "import cv2\n",
    "import numpy as np"
   ]
  },
  {
   "cell_type": "code",
   "execution_count": 9,
   "id": "c3e0a198",
   "metadata": {},
   "outputs": [],
   "source": [
    "img1=cv2.imread('image1.png')\n",
    "img2=cv2.imread('image2.png')\n",
    "\n",
    "img1=cv2.resize(img1,(500,500))\n",
    "img2=cv2.resize(img2,(500,500))\n",
    "\n",
    "new=cv2.bitwise_and(img1,img2)\n",
    "h=np.hstack((img1,img2,new))\n",
    "cv2.imshow('bitwise',h)\n",
    "cv2.waitKey(0)\n",
    "cv2.destroyAllWindows()\n"
   ]
  },
  {
   "cell_type": "code",
   "execution_count": 10,
   "id": "994d9d84",
   "metadata": {},
   "outputs": [],
   "source": [
    "img1=cv2.imread('image1.png')\n",
    "img2=cv2.imread('image2.png')\n",
    "\n",
    "img1=cv2.resize(img1,(500,500))\n",
    "img2=cv2.resize(img2,(500,500))\n",
    "\n",
    "new=cv2.bitwise_or(img1,img2)\n",
    "h=np.hstack((img1,img2,new))\n",
    "cv2.imshow('bitwise',h)\n",
    "cv2.waitKey(0)\n",
    "cv2.destroyAllWindows()\n"
   ]
  },
  {
   "cell_type": "code",
   "execution_count": 11,
   "id": "c1433f18",
   "metadata": {},
   "outputs": [],
   "source": [
    "img1=cv2.imread('image1.png')\n",
    "img2=cv2.imread('image2.png')\n",
    "\n",
    "img1=cv2.resize(img1,(500,500))\n",
    "img2=cv2.resize(img2,(500,500))\n",
    "\n",
    "new=cv2.bitwise_not(img1,img2)\n",
    "h=np.hstack((img1,img2,new))\n",
    "cv2.imshow('bitwise',h)\n",
    "cv2.waitKey(0)\n",
    "cv2.destroyAllWindows()\n"
   ]
  },
  {
   "cell_type": "code",
   "execution_count": 12,
   "id": "6752fe73",
   "metadata": {},
   "outputs": [],
   "source": [
    "img1=cv2.imread('image1.png')\n",
    "img2=cv2.imread('image2.png')\n",
    "\n",
    "img1=cv2.resize(img1,(500,500))\n",
    "img2=cv2.resize(img2,(500,500))\n",
    "\n",
    "new=cv2.bitwise_xor(img1,img2)\n",
    "h=np.hstack((img1,img2,new))\n",
    "cv2.imshow('bitwise',h)\n",
    "cv2.waitKey(0)\n",
    "cv2.destroyAllWindows()\n"
   ]
  },
  {
   "cell_type": "code",
   "execution_count": null,
   "id": "d4471c34",
   "metadata": {},
   "outputs": [],
   "source": []
  },
  {
   "cell_type": "code",
   "execution_count": null,
   "id": "a428ceda",
   "metadata": {},
   "outputs": [],
   "source": []
  }
 ],
 "metadata": {
  "kernelspec": {
   "display_name": "base",
   "language": "python",
   "name": "python3"
  },
  "language_info": {
   "codemirror_mode": {
    "name": "ipython",
    "version": 3
   },
   "file_extension": ".py",
   "mimetype": "text/x-python",
   "name": "python",
   "nbconvert_exporter": "python",
   "pygments_lexer": "ipython3",
   "version": "3.13.5"
  }
 },
 "nbformat": 4,
 "nbformat_minor": 5
}
