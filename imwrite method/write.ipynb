{
 "cells": [
  {
   "cell_type": "code",
   "execution_count": 1,
   "id": "ca5167ae",
   "metadata": {},
   "outputs": [],
   "source": [
    "import numpy as np\n",
    "import cv2"
   ]
  },
  {
   "cell_type": "code",
   "execution_count": 10,
   "id": "16768d50",
   "metadata": {},
   "outputs": [],
   "source": [
    "img=cv2.imread('image3.png') \n",
    "re_img=cv2.resize(img,(300,300))\n",
    "\n",
    "h=np.hstack((re_img,re_img))\n",
    "v=np.vstack((h,h))\n",
    "\n",
    "cv2.imwrite(r'C:\\Users\\asus\\OneDrive\\Desktop\\Photos\\output_image.png', v)\n",
    "cv2.imshow('computer Vision',v)\n",
    "cv2.waitKey(0)\n",
    "cv2.destroyAllWindows()"
   ]
  },
  {
   "cell_type": "code",
   "execution_count": null,
   "id": "17fe0a73",
   "metadata": {},
   "outputs": [],
   "source": []
  },
  {
   "cell_type": "code",
   "execution_count": null,
   "id": "1b6c3eb6",
   "metadata": {},
   "outputs": [],
   "source": []
  }
 ],
 "metadata": {
  "kernelspec": {
   "display_name": "base",
   "language": "python",
   "name": "python3"
  },
  "language_info": {
   "codemirror_mode": {
    "name": "ipython",
    "version": 3
   },
   "file_extension": ".py",
   "mimetype": "text/x-python",
   "name": "python",
   "nbconvert_exporter": "python",
   "pygments_lexer": "ipython3",
   "version": "3.13.5"
  }
 },
 "nbformat": 4,
 "nbformat_minor": 5
}
