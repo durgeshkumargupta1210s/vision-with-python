{
 "cells": [
  {
   "cell_type": "markdown",
   "id": "3ab67bd5",
   "metadata": {},
   "source": [
    "In OpenCV, morphological operations are image processing techniques that work on binary images (black & white) to process shapes.\n",
    "They’re often used for noise removal, shape enhancement, and object detection.\n",
    "\n"
   ]
  },
  {
   "cell_type": "markdown",
   "id": "6debb338",
   "metadata": {},
   "source": [
    "Binary image (from thresholding or edge detection):-\n",
    "\n",
    "Kernel (structuring element) — usually a small matrix of 1s that defines the shape of the operation.\n",
    "\n"
   ]
  },
  {
   "cell_type": "code",
   "execution_count": 2,
   "id": "24d86fc2",
   "metadata": {},
   "outputs": [],
   "source": [
    "import cv2\n",
    "import numpy as np\n",
    "\n",
    "# Read image\n",
    "img = cv2.imread('image2.png', 0)  # 0 = grayscale\n",
    "\n",
    "# Convert to binary\n",
    "_, binary = cv2.threshold(img, 127, 255, cv2.THRESH_BINARY)\n",
    "\n",
    "# Define kernel\n",
    "kernel = np.ones((5,5), np.uint8)\n",
    "\n",
    "# 1. Erosion – shrinks white areas\n",
    "erosion = cv2.erode(binary, kernel, iterations=1)\n",
    "\n",
    "# 2. Dilation – expands white areas\n",
    "dilation = cv2.dilate(binary, kernel, iterations=1)\n",
    "\n",
    "# 3. Opening – erosion followed by dilation (removes small white noise)\n",
    "opening = cv2.morphologyEx(binary, cv2.MORPH_OPEN, kernel)\n",
    "\n",
    "# 4. Closing – dilation followed by erosion (fills small black holes)\n",
    "closing = cv2.morphologyEx(binary, cv2.MORPH_CLOSE, kernel)\n",
    "\n",
    "# 5. Gradient – difference between dilation and erosion (edges)\n",
    "gradient = cv2.morphologyEx(binary, cv2.MORPH_GRADIENT, kernel)\n",
    "\n",
    "# Show results\n",
    "cv2.imshow(\"Original\", binary)\n",
    "cv2.imshow(\"Erosion\", erosion)\n",
    "cv2.imshow(\"Dilation\", dilation)\n",
    "cv2.imshow(\"Opening\", opening)\n",
    "cv2.imshow(\"Closing\", closing)\n",
    "cv2.imshow(\"Gradient\", gradient)\n",
    "\n",
    "cv2.waitKey(0)\n",
    "cv2.destroyAllWindows()\n",
    "\n",
    "\n",
    "# 💡 Tip: The kernel size (5x5, 3x3, etc.) controls how aggressive the \n",
    "# operation is. Bigger kernels = stronger effect.\n",
    "\n",
    "\n"
   ]
  }
 ],
 "metadata": {
  "kernelspec": {
   "display_name": "base",
   "language": "python",
   "name": "python3"
  },
  "language_info": {
   "codemirror_mode": {
    "name": "ipython",
    "version": 3
   },
   "file_extension": ".py",
   "mimetype": "text/x-python",
   "name": "python",
   "nbconvert_exporter": "python",
   "pygments_lexer": "ipython3",
   "version": "3.13.5"
  }
 },
 "nbformat": 4,
 "nbformat_minor": 5
}
