{
 "cells": [
  {
   "cell_type": "code",
   "execution_count": null,
   "id": "217f2794",
   "metadata": {},
   "outputs": [],
   "source": []
  },
  {
   "cell_type": "code",
   "execution_count": 1,
   "id": "af52e881",
   "metadata": {},
   "outputs": [
    {
     "name": "stdout",
     "output_type": "stream",
     "text": [
      "Original FPS: 26.0\n"
     ]
    }
   ],
   "source": [
    "import cv2\n",
    "\n",
    "cap = cv2.VideoCapture('video1.mp4')\n",
    "\n",
    "# Get original FPS of the video\n",
    "fps = cap.get(cv2.CAP_PROP_FPS)\n",
    "print(f\"Original FPS: {fps}\")\n",
    "\n",
    "while cap.isOpened():\n",
    "    ret, frame = cap.read()\n",
    "    if not ret:\n",
    "        break\n",
    "\n",
    "    cv2.imshow('Video Playback', frame)\n",
    "\n",
    "    # Slow Motion → increase delay (e.g., 100 ms)\n",
    "    # Fast Motion → decrease delay (e.g., 10 ms)\n",
    "    key = cv2.waitKey(50) & 0xFF   # 50 ms delay → slow playback\n",
    "\n",
    "    if key == ord('q'):  # Quit\n",
    "        break\n",
    "\n",
    "cap.release()\n",
    "cv2.destroyAllWindows()\n"
   ]
  },
  {
   "cell_type": "code",
   "execution_count": 3,
   "id": "7f0f0434",
   "metadata": {},
   "outputs": [],
   "source": [
    "import cv2\n",
    "\n",
    "cap = cv2.VideoCapture('video1.mp4')\n",
    "fps = cap.get(cv2.CAP_PROP_FPS)\n",
    "delay = int(1000 / fps)  # Start with normal speed\n",
    "\n",
    "while cap.isOpened():\n",
    "    ret, frame = cap.read()\n",
    "    frame=cv2.resize(frame,(500,500))\n",
    "    if not ret:\n",
    "        break\n",
    "\n",
    "    cv2.imshow('Video Control', frame)\n",
    "\n",
    "    key = cv2.waitKey(delay) & 0xFF\n",
    "\n",
    "    if key == ord('q'):   # Quit\n",
    "        break\n",
    "    elif key == ord('s'): # Slow motion\n",
    "        delay += 5\n",
    "    elif key == ord('f'): # Fast motion\n",
    "        delay = max(1, delay - 5)\n",
    "\n",
    "cap.release()\n",
    "cv2.destroyAllWindows()\n"
   ]
  },
  {
   "cell_type": "markdown",
   "id": "b4ef155f",
   "metadata": {},
   "source": [
    "How to Adjust Speed:-\n",
    "\n",
    "If your video’s FPS is:\n",
    "\n",
    "fps = cap.get(cv2.CAP_PROP_FPS)\n",
    "Normal speed:\n",
    "\n",
    "delay = int(1000 / fps)\n",
    "Slow motion: Multiply delay\n",
    "\n",
    "delay = int((1000 / fps) * 2)  # 2x slower\n",
    "Fast motion: Divide delay\n",
    "\n",
    "delay = int((1000 / fps) / 2)  # 2x faster"
   ]
  },
  {
   "cell_type": "code",
   "execution_count": null,
   "id": "80ea0a54",
   "metadata": {},
   "outputs": [],
   "source": []
  },
  {
   "cell_type": "code",
   "execution_count": null,
   "id": "b343be2d",
   "metadata": {},
   "outputs": [],
   "source": []
  }
 ],
 "metadata": {
  "kernelspec": {
   "display_name": "base",
   "language": "python",
   "name": "python3"
  },
  "language_info": {
   "codemirror_mode": {
    "name": "ipython",
    "version": 3
   },
   "file_extension": ".py",
   "mimetype": "text/x-python",
   "name": "python",
   "nbconvert_exporter": "python",
   "pygments_lexer": "ipython3",
   "version": "3.13.5"
  }
 },
 "nbformat": 4,
 "nbformat_minor": 5
}
