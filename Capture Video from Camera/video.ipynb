{
 "cells": [
  {
   "cell_type": "code",
   "execution_count": 1,
   "id": "8090ae6e",
   "metadata": {},
   "outputs": [],
   "source": [
    "import cv2"
   ]
  },
  {
   "cell_type": "code",
   "execution_count": 3,
   "id": "20e4d1fd",
   "metadata": {},
   "outputs": [],
   "source": [
    "import cv2\n",
    "\n",
    "# Open default camera (0)\n",
    "cap = cv2.VideoCapture(0)\n",
    "\n",
    "# Optional: Set camera resolution\n",
    "cap.set(cv2.CAP_PROP_FRAME_WIDTH, 640)   # Width\n",
    "cap.set(cv2.CAP_PROP_FRAME_HEIGHT, 480)  # Height\n",
    "\n",
    "while cap.isOpened():\n",
    "    ret, frame = cap.read()\n",
    "    if ret:\n",
    "        # Display the live video\n",
    "        cv2.imshow('Webcam Feed', frame)\n",
    "\n",
    "        # Exit on 'q' key press\n",
    "        if cv2.waitKey(1) & 0xFF == ord('q'):\n",
    "            break\n",
    "    else:\n",
    "        break\n",
    "\n",
    "# Release camera & close windows\n",
    "cap.release()\n",
    "cv2.destroyAllWindows()\n"
   ]
  },
  {
   "cell_type": "markdown",
   "id": "5c7b1e98",
   "metadata": {},
   "source": [
    "How It Works:-\n",
    "\n",
    "cv2.VideoCapture(0)\n",
    "\n",
    "0 → default webcam.\n",
    "\n",
    "1, 2, etc. → other connected cameras.\n",
    "\n",
    "cap.set()\n",
    "\n",
    "Sets properties like width, height, brightness.\n",
    "\n",
    "Loop\n",
    "\n",
    "cap.read() → captures a frame from the camera.\n",
    "\n",
    "cv2.imshow() → displays the frame in real time.\n",
    "\n",
    "cv2.waitKey(1)\n",
    "\n",
    "Waits 1 ms between frames (enough for smooth display).\n",
    "\n",
    "Checks if the 'q' key is pressed to quit.\n",
    "\n",
    "Cleanup\n",
    "\n",
    "cap.release() → frees camera.\n",
    "\n",
    "cv2.destroyAllWindows() → closes the display window.\n",
    "\n"
   ]
  }
 ],
 "metadata": {
  "kernelspec": {
   "display_name": "base",
   "language": "python",
   "name": "python3"
  },
  "language_info": {
   "codemirror_mode": {
    "name": "ipython",
    "version": 3
   },
   "file_extension": ".py",
   "mimetype": "text/x-python",
   "name": "python",
   "nbconvert_exporter": "python",
   "pygments_lexer": "ipython3",
   "version": "3.13.5"
  }
 },
 "nbformat": 4,
 "nbformat_minor": 5
}
