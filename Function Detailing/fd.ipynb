{
 "cells": [
  {
   "cell_type": "code",
   "execution_count": 1,
   "id": "a14adfac",
   "metadata": {},
   "outputs": [],
   "source": [
    "import cv2"
   ]
  },
  {
   "cell_type": "code",
   "execution_count": 6,
   "id": "c457294c",
   "metadata": {},
   "outputs": [],
   "source": [
    "img=cv2.imread('image3.png') # bgr (0-255,0-255,0-255)\n",
    "# print(img)\n",
    "# img.shape\n",
    "img=cv2.resize(img,(500,500))\n",
    "cv2.imshow('computer Vision',img)\n",
    "cv2.waitKey(0)\n",
    "cv2.destroyAllWindows()"
   ]
  },
  {
   "cell_type": "markdown",
   "id": "fbca83b4",
   "metadata": {},
   "source": [
    "Flag value-1 (0riginal image)--> rgb\n",
    "Flag value-0  (black and white)--> gracystyle\n",
    "Flag value-(-1)"
   ]
  },
  {
   "cell_type": "code",
   "execution_count": 13,
   "id": "1d4b5f5b",
   "metadata": {},
   "outputs": [
    {
     "name": "stdout",
     "output_type": "stream",
     "text": [
      "(4096, 4096, 3)\n"
     ]
    }
   ],
   "source": [
    "img=cv2.imread('image3.png',1) # bgr (0-255,0-255,0-255)\n",
    "print(img.shape)\n",
    "img=cv2.resize(img,(500,500))\n",
    "cv2.imshow('computer Vision',img)\n",
    "cv2.waitKey(0)\n",
    "cv2.destroyAllWindows()"
   ]
  },
  {
   "cell_type": "code",
   "execution_count": null,
   "id": "150081b5",
   "metadata": {},
   "outputs": [
    {
     "name": "stdout",
     "output_type": "stream",
     "text": [
      "(4096, 4096)\n"
     ]
    }
   ],
   "source": [
    "img=cv2.imread('image3.png',0) # gracy (0-255,0-255,0-255)\n",
    "print(img.shape)\n",
    "img=cv2.resize(img,(500,500))\n",
    "cv2.imshow('computer Vision',img)\n",
    "cv2.waitKey(0)\n",
    "cv2.destroyAllWindows()"
   ]
  },
  {
   "cell_type": "code",
   "execution_count": 15,
   "id": "7cd88f78",
   "metadata": {},
   "outputs": [
    {
     "name": "stdout",
     "output_type": "stream",
     "text": [
      "(4096, 4096, 3)\n"
     ]
    }
   ],
   "source": [
    "img=cv2.imread('image3.png',-1) # bgr (0-255,0-255,0-255)\n",
    "print(img.shape)\n",
    "img=cv2.resize(img,(500,500))\n",
    "cv2.imshow('computer Vision',img)\n",
    "cv2.waitKey(0)\n",
    "cv2.destroyAllWindows()"
   ]
  },
  {
   "cell_type": "code",
   "execution_count": null,
   "id": "d50bbb43",
   "metadata": {},
   "outputs": [],
   "source": []
  },
  {
   "cell_type": "code",
   "execution_count": null,
   "id": "e80fcadb",
   "metadata": {},
   "outputs": [],
   "source": []
  },
  {
   "cell_type": "code",
   "execution_count": null,
   "id": "0e5e4060",
   "metadata": {},
   "outputs": [],
   "source": []
  }
 ],
 "metadata": {
  "kernelspec": {
   "display_name": "base",
   "language": "python",
   "name": "python3"
  },
  "language_info": {
   "codemirror_mode": {
    "name": "ipython",
    "version": 3
   },
   "file_extension": ".py",
   "mimetype": "text/x-python",
   "name": "python",
   "nbconvert_exporter": "python",
   "pygments_lexer": "ipython3",
   "version": "3.13.5"
  }
 },
 "nbformat": 4,
 "nbformat_minor": 5
}
