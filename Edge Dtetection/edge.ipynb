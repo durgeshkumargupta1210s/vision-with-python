{
 "cells": [
  {
   "cell_type": "code",
   "execution_count": 1,
   "id": "317ad029",
   "metadata": {},
   "outputs": [],
   "source": [
    "import cv2"
   ]
  },
  {
   "cell_type": "code",
   "execution_count": null,
   "id": "e8af82fd",
   "metadata": {},
   "outputs": [
    {
     "name": "stdout",
     "output_type": "stream",
     "text": [
      "(500, 500, 3)\n",
      "(500, 500)\n"
     ]
    }
   ],
   "source": [
    "img=cv2.imread('image2.png')\n",
    "img=cv2.resize(img,(500,500))\n",
    "print(img.shape)\n",
    "\n",
    "new_img=cv2.Canny(img,200,200)\n",
    "print(new_img.shape)\n",
    "\n",
    "cv2.imshow('Edited',new_img)\n",
    "cv2.imshow('original',img)\n",
    "cv2.waitKey(0)\n",
    "cv2.destroyAllWindows()"
   ]
  }
 ],
 "metadata": {
  "kernelspec": {
   "display_name": "base",
   "language": "python",
   "name": "python3"
  },
  "language_info": {
   "codemirror_mode": {
    "name": "ipython",
    "version": 3
   },
   "file_extension": ".py",
   "mimetype": "text/x-python",
   "name": "python",
   "nbconvert_exporter": "python",
   "pygments_lexer": "ipython3",
   "version": "3.13.5"
  }
 },
 "nbformat": 4,
 "nbformat_minor": 5
}
