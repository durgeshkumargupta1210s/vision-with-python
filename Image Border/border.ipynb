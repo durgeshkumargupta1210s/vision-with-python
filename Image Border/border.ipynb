{
 "cells": [
  {
   "cell_type": "markdown",
   "id": "162355fe",
   "metadata": {},
   "source": [
    "In OpenCV, you can add a border (padding) around an image using cv2.copyMakeBorder().\n",
    "It’s useful for things like framing, preparing for convolution, or preventing cropping in certain filters.\n",
    "\n"
   ]
  },
  {
   "cell_type": "markdown",
   "id": "de03eee6",
   "metadata": {},
   "source": [
    "Syntax:-\n",
    "cv2.copyMakeBorder(src, top, bottom, left, right, borderType, value)\n",
    "Parameters\n",
    "\n",
    "src → Original image\n",
    "\n",
    "top, bottom, left, right → Border thickness in pixels\n",
    "\n",
    "borderType → Type of border (explained below)\n",
    "\n",
    "value → Border color (used only for BORDER_CONSTANT)"
   ]
  },
  {
   "cell_type": "markdown",
   "id": "6c129e6c",
   "metadata": {},
   "source": [
    "# Border Types\n",
    "# cv2.BORDER_CONSTANT – Solid color border\n",
    "\n",
    "# cv2.BORDER_REFLECT – Mirror reflection without repeating border pixel\n",
    "\n",
    "# cv2.BORDER_REFLECT_101 – Mirror reflection but starts with border pixel\n",
    "\n",
    "# cv2.BORDER_REPLICATE – Repeats edge pixels\n",
    "\n",
    "# cv2.BORDER_WRAP – Wraps image around"
   ]
  },
  {
   "cell_type": "code",
   "execution_count": 2,
   "id": "3aa5a31c",
   "metadata": {},
   "outputs": [],
   "source": [
    "import cv2\n",
    "import numpy as np"
   ]
  },
  {
   "cell_type": "code",
   "execution_count": null,
   "id": "16138f0f",
   "metadata": {},
   "outputs": [
    {
     "ename": "error",
     "evalue": "OpenCV(4.12.0) D:\\a\\opencv-python\\opencv-python\\opencv\\modules\\core\\src\\copy.cpp:925: error: (-5:Bad argument) Unknown/unsupported border type in function 'cv::borderInterpolate'\n",
     "output_type": "error",
     "traceback": [
      "\u001b[1;31m---------------------------------------------------------------------------\u001b[0m",
      "\u001b[1;31merror\u001b[0m                                     Traceback (most recent call last)",
      "Cell \u001b[1;32mIn[9], line 17\u001b[0m\n\u001b[0;32m     14\u001b[0m img4\u001b[38;5;241m=\u001b[39mcv2\u001b[38;5;241m.\u001b[39mcopyMakeBorder(res_img,\u001b[38;5;241m20\u001b[39m,\u001b[38;5;241m20\u001b[39m,\u001b[38;5;241m20\u001b[39m,\u001b[38;5;241m20\u001b[39m,cv2\u001b[38;5;241m.\u001b[39mBORDER_REFLECT)\n\u001b[0;32m     15\u001b[0m img4\u001b[38;5;241m=\u001b[39mcv2\u001b[38;5;241m.\u001b[39mresize(img4,(\u001b[38;5;241m300\u001b[39m,\u001b[38;5;241m300\u001b[39m))\n\u001b[1;32m---> 17\u001b[0m img5\u001b[38;5;241m=\u001b[39m\u001b[43mcv2\u001b[49m\u001b[38;5;241;43m.\u001b[39;49m\u001b[43mcopyMakeBorder\u001b[49m\u001b[43m(\u001b[49m\u001b[43mres_img\u001b[49m\u001b[43m,\u001b[49m\u001b[38;5;241;43m20\u001b[39;49m\u001b[43m,\u001b[49m\u001b[38;5;241;43m20\u001b[39;49m\u001b[43m,\u001b[49m\u001b[38;5;241;43m20\u001b[39;49m\u001b[43m,\u001b[49m\u001b[38;5;241;43m20\u001b[39;49m\u001b[43m,\u001b[49m\u001b[43mcv2\u001b[49m\u001b[38;5;241;43m.\u001b[39;49m\u001b[43mBORDER_TRANSPARENT\u001b[49m\u001b[43m)\u001b[49m\n\u001b[0;32m     18\u001b[0m img5\u001b[38;5;241m=\u001b[39mcv2\u001b[38;5;241m.\u001b[39mresize(img5,(\u001b[38;5;241m300\u001b[39m,\u001b[38;5;241m300\u001b[39m))\n\u001b[0;32m     20\u001b[0m h\u001b[38;5;241m=\u001b[39mnp\u001b[38;5;241m.\u001b[39mhstack((img5,img1,img2,img3,img4))\n",
      "\u001b[1;31merror\u001b[0m: OpenCV(4.12.0) D:\\a\\opencv-python\\opencv-python\\opencv\\modules\\core\\src\\copy.cpp:925: error: (-5:Bad argument) Unknown/unsupported border type in function 'cv::borderInterpolate'\n"
     ]
    },
    {
     "ename": "",
     "evalue": "",
     "output_type": "error",
     "traceback": [
      "\u001b[1;31mThe Kernel crashed while executing code in the current cell or a previous cell. \n",
      "\u001b[1;31mPlease review the code in the cell(s) to identify a possible cause of the failure. \n",
      "\u001b[1;31mClick <a href='https://aka.ms/vscodeJupyterKernelCrash'>here</a> for more info. \n",
      "\u001b[1;31mView Jupyter <a href='command:jupyter.viewOutput'>log</a> for further details."
     ]
    }
   ],
   "source": [
    "org_img=cv2.imread('image2.png')\n",
    "res_img=cv2.resize(org_img,(300,300))\n",
    "\n",
    "img1=cv2.copyMakeBorder(res_img,20,20,20,20,cv2.BORDER_CONSTANT,None,value=2)\n",
    "img1=cv2.resize(img1,(300,300))\n",
    "\n",
    "img2=cv2.copyMakeBorder(res_img,20,20,20,20,cv2.BORDER_DEFAULT)\n",
    "img2=cv2.resize(img2,(300,300))\n",
    "\n",
    "img3=cv2.copyMakeBorder(res_img,20,20,20,20,cv2.BORDER_ISOLATED)\n",
    "img3=cv2.resize(img3,(300,300))\n",
    "\n",
    "\n",
    "img4=cv2.copyMakeBorder(res_img,20,20,20,20,cv2.BORDER_REFLECT)\n",
    "img4=cv2.resize(img4,(300,300))\n",
    "\n",
    "h=np.hstack((res_img,img1,img2,img3,img4))\n",
    "\n",
    "\n",
    "cv2.imshow('durgesh',h)\n",
    "cv2.waitKey(0)\n",
    "cv2.destroyAllWindows()"
   ]
  },
  {
   "cell_type": "code",
   "execution_count": null,
   "id": "f9ac5ee7",
   "metadata": {},
   "outputs": [],
   "source": []
  },
  {
   "cell_type": "code",
   "execution_count": null,
   "id": "9a66bd55",
   "metadata": {},
   "outputs": [],
   "source": []
  },
  {
   "cell_type": "code",
   "execution_count": null,
   "id": "01a934b7",
   "metadata": {},
   "outputs": [],
   "source": []
  }
 ],
 "metadata": {
  "kernelspec": {
   "display_name": "base",
   "language": "python",
   "name": "python3"
  },
  "language_info": {
   "codemirror_mode": {
    "name": "ipython",
    "version": 3
   },
   "file_extension": ".py",
   "mimetype": "text/x-python",
   "name": "python",
   "nbconvert_exporter": "python",
   "pygments_lexer": "ipython3",
   "version": "3.13.5"
  }
 },
 "nbformat": 4,
 "nbformat_minor": 5
}
